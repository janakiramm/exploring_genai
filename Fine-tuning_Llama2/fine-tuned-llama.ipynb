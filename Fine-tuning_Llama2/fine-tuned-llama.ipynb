{
 "cells": [
  {
   "cell_type": "code",
   "execution_count": 3,
   "id": "06611f11-44af-47c3-ad99-16c55c4dad35",
   "metadata": {},
   "outputs": [],
   "source": [
    "from huggingface_hub import InferenceClient"
   ]
  },
  {
   "cell_type": "code",
   "execution_count": 9,
   "id": "7c2ab029-35e0-4e7f-b148-48facac08b74",
   "metadata": {},
   "outputs": [],
   "source": [
    "URI='http://139.84.133.249:8080'\n",
    "client = InferenceClient(model=URI)"
   ]
  },
  {
   "cell_type": "code",
   "execution_count": 10,
   "id": "381c4261-fe2f-45a0-a3e6-677570685b99",
   "metadata": {},
   "outputs": [],
   "source": [
    "def chat_completion(system_prompt, user_prompt,length=100):\n",
    "    final_prompt=f\"\"\"\\<s>[INST]<<SYS>>\n",
    "    {system_prompt}\n",
    "    <</SYS>>\n",
    "    \n",
    "    {user_prompt} [/INST]\"\"\"\n",
    "    return client.text_generation(prompt=final_prompt,max_new_tokens = length).strip()"
   ]
  },
  {
   "cell_type": "code",
   "execution_count": 11,
   "id": "05396751-c222-4e36-ae73-1a73f06d2369",
   "metadata": {},
   "outputs": [],
   "source": [
    "system_prompt=\"\"\"\n",
    "Create a text ad given the following product and description.\n",
    "\"\"\""
   ]
  },
  {
   "cell_type": "code",
   "execution_count": 20,
   "id": "75a6ea38-ceec-4e83-b2bb-0218dee91524",
   "metadata": {},
   "outputs": [],
   "source": [
    "user_prompt=\"\"\"\n",
    "Product: Lightweight Bicycle Description: Perfect bike for any road conditions \n",
    "\"\"\""
   ]
  },
  {
   "cell_type": "code",
   "execution_count": 21,
   "id": "cb7e78cd-61d4-4fb9-af38-862c3c25f8f6",
   "metadata": {},
   "outputs": [
    {
     "name": "stdout",
     "output_type": "stream",
     "text": [
      "Ad: Experience the thrill of the road with our Lightweight Bicycle! 🚴🌟 Perfect for any terrain, this bike is designed for adventure and comfort. Limited stock - ride the road in style! 🌟🚴🌟\n"
     ]
    }
   ],
   "source": [
    "print(chat_completion(system_prompt, user_prompt))"
   ]
  }
 ],
 "metadata": {
  "kernelspec": {
   "display_name": "Python 3 (ipykernel)",
   "language": "python",
   "name": "python3"
  },
  "language_info": {
   "codemirror_mode": {
    "name": "ipython",
    "version": 3
   },
   "file_extension": ".py",
   "mimetype": "text/x-python",
   "name": "python",
   "nbconvert_exporter": "python",
   "pygments_lexer": "ipython3",
   "version": "3.10.12"
  }
 },
 "nbformat": 4,
 "nbformat_minor": 5
}
