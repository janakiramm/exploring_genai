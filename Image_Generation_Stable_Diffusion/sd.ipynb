{
 "cells": [
  {
   "cell_type": "code",
   "execution_count": null,
   "id": "b95002d4-6ada-413a-9f29-5bec1e1d69bc",
   "metadata": {},
   "outputs": [],
   "source": [
    "import requests\n",
    "from io import BytesIO\n",
    "from IPython.display import Image, display"
   ]
  },
  {
   "cell_type": "code",
   "execution_count": null,
   "id": "f5278185-7e43-432c-89ae-dc8ebfddf14b",
   "metadata": {},
   "outputs": [],
   "source": [
    "url = \"http://139.84.141.234:3000/txt2img\"\n",
    "headers = {'Content-Type': 'application/json'}"
   ]
  },
  {
   "cell_type": "code",
   "execution_count": null,
   "id": "e9d289b1-a373-4654-90e2-9a1746a4efd7",
   "metadata": {},
   "outputs": [],
   "source": [
    "data = {\n",
    "    \"prompt\": \"a black cat\",\n",
    "    \"height\": 768,\n",
    "    \"width\": 768\n",
    "}"
   ]
  },
  {
   "cell_type": "code",
   "execution_count": null,
   "id": "26173a0f-ea6a-476f-85fd-cbcc13a81211",
   "metadata": {},
   "outputs": [],
   "source": [
    "response = requests.post(url, headers=headers, json=data)"
   ]
  },
  {
   "cell_type": "code",
   "execution_count": null,
   "id": "81cb65e5-b8ac-44fe-9a03-9127354f8b98",
   "metadata": {},
   "outputs": [],
   "source": [
    "display(Image(response.content))"
   ]
  },
  {
   "cell_type": "code",
   "execution_count": null,
   "id": "01828b31-c9eb-4fb7-a210-ceeae11301ee",
   "metadata": {},
   "outputs": [],
   "source": []
  }
 ],
 "metadata": {
  "kernelspec": {
   "display_name": "Python 3 (ipykernel)",
   "language": "python",
   "name": "python3"
  },
  "language_info": {
   "codemirror_mode": {
    "name": "ipython",
    "version": 3
   },
   "file_extension": ".py",
   "mimetype": "text/x-python",
   "name": "python",
   "nbconvert_exporter": "python",
   "pygments_lexer": "ipython3",
   "version": "3.10.12"
  }
 },
 "nbformat": 4,
 "nbformat_minor": 5
}
