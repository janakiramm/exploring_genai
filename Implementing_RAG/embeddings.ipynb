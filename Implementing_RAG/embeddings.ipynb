{
 "cells": [
  {
   "cell_type": "code",
   "execution_count": 1,
   "id": "1c8a5fe1-1e89-4cb7-9737-0261cbfa86ba",
   "metadata": {},
   "outputs": [],
   "source": [
    "from sentence_transformers import SentenceTransformer\n",
    "import numpy as np"
   ]
  },
  {
   "cell_type": "code",
   "execution_count": 2,
   "id": "bae38f03-5a37-4d9a-bad1-e3178d3de051",
   "metadata": {},
   "outputs": [],
   "source": [
    "def text_embedding(text) -> None:\n",
    "    model = SentenceTransformer('sentence-transformers/all-MiniLM-L6-v2')\n",
    "    return model.encode(text,normalize_embeddings=True)"
   ]
  },
  {
   "cell_type": "code",
   "execution_count": 6,
   "id": "99485095-b036-461a-9fb6-ae41fafdaabe",
   "metadata": {},
   "outputs": [],
   "source": [
    "phrase1=\"Apple is a fruit\"\n",
    "embedding1=text_embedding(phrase1)"
   ]
  },
  {
   "cell_type": "code",
   "execution_count": 7,
   "id": "e4710f62-c3a0-4c79-af38-5e7d763bf7f2",
   "metadata": {},
   "outputs": [],
   "source": [
    "phrase2=\"Apple iPhone is expensive\"\n",
    "embedding2=text_embedding(phrase2)"
   ]
  },
  {
   "cell_type": "code",
   "execution_count": 8,
   "id": "8398ce1a-60df-4d3f-ac03-957d12c43aee",
   "metadata": {},
   "outputs": [
    {
     "data": {
      "text/plain": [
       "384"
      ]
     },
     "execution_count": 8,
     "metadata": {},
     "output_type": "execute_result"
    }
   ],
   "source": [
    "len(embedding1)"
   ]
  },
  {
   "cell_type": "code",
   "execution_count": 9,
   "id": "320b77be-cd59-4fd5-98c9-22cdd6a23133",
   "metadata": {},
   "outputs": [
    {
     "data": {
      "text/plain": [
       "384"
      ]
     },
     "execution_count": 9,
     "metadata": {},
     "output_type": "execute_result"
    }
   ],
   "source": [
    "len(embedding2)"
   ]
  },
  {
   "cell_type": "code",
   "execution_count": 10,
   "id": "fda52bfb-08d4-4eb5-91bf-6cda86de1fb1",
   "metadata": {},
   "outputs": [],
   "source": [
    "phrase3=\"Mango is a fruit\"\n",
    "embedding3=text_embedding(phrase3) "
   ]
  },
  {
   "cell_type": "code",
   "execution_count": 11,
   "id": "5fa72204-f310-4487-a7d2-6a58aa4e7a79",
   "metadata": {},
   "outputs": [],
   "source": [
    "phrase4=\"There is a new Apple iPhone\"\n",
    "embedding4=text_embedding(phrase4)"
   ]
  },
  {
   "cell_type": "code",
   "execution_count": 12,
   "id": "fee6ace4-4ec4-46fd-a04d-1070e8d277f4",
   "metadata": {},
   "outputs": [],
   "source": [
    "def vector_similarity(vec1, vec2):\n",
    "    return np.dot(np.squeeze(np.array(vec1)),np.squeeze(np.array(vec2)))"
   ]
  },
  {
   "cell_type": "code",
   "execution_count": 13,
   "id": "a3e81fea-7e5c-42a8-8084-940d5ccd90a7",
   "metadata": {},
   "outputs": [
    {
     "name": "stdout",
     "output_type": "stream",
     "text": [
      "0.6773863\n",
      "0.3809799\n"
     ]
    }
   ],
   "source": [
    "print(vector_similarity(embedding1,embedding3))\n",
    "print(vector_similarity(embedding1,embedding4))"
   ]
  },
  {
   "cell_type": "code",
   "execution_count": 14,
   "id": "42992c5c-9957-41b8-bc71-50dc25b7ece1",
   "metadata": {},
   "outputs": [
    {
     "name": "stdout",
     "output_type": "stream",
     "text": [
      "0.15007734\n",
      "0.6433085\n"
     ]
    }
   ],
   "source": [
    "print(vector_similarity(embedding2,embedding3))\n",
    "print(vector_similarity(embedding2,embedding4))"
   ]
  },
  {
   "cell_type": "code",
   "execution_count": null,
   "id": "9d4ccfd6-11aa-4d6c-abd5-e5ce68a2b8c2",
   "metadata": {},
   "outputs": [],
   "source": []
  }
 ],
 "metadata": {
  "kernelspec": {
   "display_name": "Python 3 (ipykernel)",
   "language": "python",
   "name": "python3"
  },
  "language_info": {
   "codemirror_mode": {
    "name": "ipython",
    "version": 3
   },
   "file_extension": ".py",
   "mimetype": "text/x-python",
   "name": "python",
   "nbconvert_exporter": "python",
   "pygments_lexer": "ipython3",
   "version": "3.10.12"
  }
 },
 "nbformat": 4,
 "nbformat_minor": 5
}
