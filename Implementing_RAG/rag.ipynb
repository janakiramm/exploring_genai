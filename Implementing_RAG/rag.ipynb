{
 "cells": [
  {
   "cell_type": "code",
   "execution_count": 37,
   "id": "5180b852-49ca-4d07-9c7e-a4e21997f4e6",
   "metadata": {},
   "outputs": [],
   "source": [
    "import pandas as pd\n",
    "import chromadb\n",
    "from chromadb.utils import embedding_functions\n",
    "from sentence_transformers import SentenceTransformer\n",
    "from huggingface_hub import InferenceClient\n",
    "import numpy as np\n",
    "import os"
   ]
  },
  {
   "cell_type": "code",
   "execution_count": 38,
   "id": "9afefcbe-1500-4ba1-9fd3-8f9394c6ce2a",
   "metadata": {},
   "outputs": [],
   "source": [
    "def text_embedding(text) -> None:\n",
    "    model = SentenceTransformer('sentence-transformers/all-MiniLM-L6-v2')\n",
    "    return model.encode(text)"
   ]
  },
  {
   "cell_type": "code",
   "execution_count": 39,
   "id": "c1b4aa3c-b555-40f9-a47e-fde7498b43e0",
   "metadata": {},
   "outputs": [],
   "source": [
    "def generate_context(query):\n",
    "    vector=text_embedding(query).tolist()\n",
    "    \n",
    "    results=collection.query(    \n",
    "        query_embeddings=vector,\n",
    "        n_results=15,\n",
    "        include=[\"documents\"]\n",
    "    )\n",
    "    \n",
    "    res = \"\\n\".join(str(item) for item in results['documents'][0])\n",
    "    return res"
   ]
  },
  {
   "cell_type": "code",
   "execution_count": 40,
   "id": "d54c87d4-0850-406b-8e08-ab9d087e3d68",
   "metadata": {},
   "outputs": [],
   "source": [
    "def chat_completion(system_prompt, user_prompt,length=1000):\n",
    "    final_prompt=f\"\"\"<s>[INST]<<SYS>>\n",
    "    {system_prompt}\n",
    "    <</SYS>>\n",
    "    \n",
    "    {user_prompt} [/INST]\"\"\"\n",
    "    return client.text_generation(prompt=final_prompt,max_new_tokens = length).strip()"
   ]
  },
  {
   "cell_type": "code",
   "execution_count": 41,
   "id": "f523f5b9-9a82-48f0-8eb3-746c0fc1d7a9",
   "metadata": {},
   "outputs": [],
   "source": [
    "df=pd.read_csv('./data/oscars.csv')\n",
    "df=df.loc[df['year_ceremony'] == 2023]\n",
    "df=df.dropna(subset=['film'])\n",
    "df.loc[:, 'category'] = df['category'].str.lower()\n",
    "df.loc[:, 'text'] = df['name'] + ' got nominated under the category, ' + df['category'] + ', for the film ' + df['film'] + ' to win the award'\n",
    "df.loc[df['winner'] == False, 'text'] = df['name'] + ' got nominated under the category, ' + df['category'] + ', for the film ' + df['film'] + ' but did not win'               "
   ]
  },
  {
   "cell_type": "code",
   "execution_count": 42,
   "id": "7833e8bb-e480-422b-9b85-00f7d0fcb890",
   "metadata": {},
   "outputs": [],
   "source": [
    "client = chromadb.Client()\n",
    "collection = client.get_or_create_collection(\"oscars-2023\")"
   ]
  },
  {
   "cell_type": "code",
   "execution_count": 43,
   "id": "9f1a4f83-1298-4325-a778-af0289ca82c2",
   "metadata": {},
   "outputs": [
    {
     "name": "stderr",
     "output_type": "stream",
     "text": [
      "Insert of existing embedding ID: 10639\n",
      "Insert of existing embedding ID: 10640\n",
      "Insert of existing embedding ID: 10641\n",
      "Insert of existing embedding ID: 10642\n",
      "Insert of existing embedding ID: 10643\n",
      "Insert of existing embedding ID: 10644\n",
      "Insert of existing embedding ID: 10645\n",
      "Insert of existing embedding ID: 10646\n",
      "Insert of existing embedding ID: 10647\n",
      "Insert of existing embedding ID: 10648\n",
      "Insert of existing embedding ID: 10649\n",
      "Insert of existing embedding ID: 10650\n",
      "Insert of existing embedding ID: 10651\n",
      "Insert of existing embedding ID: 10652\n",
      "Insert of existing embedding ID: 10653\n",
      "Insert of existing embedding ID: 10654\n",
      "Insert of existing embedding ID: 10655\n",
      "Insert of existing embedding ID: 10656\n",
      "Insert of existing embedding ID: 10657\n",
      "Insert of existing embedding ID: 10658\n",
      "Insert of existing embedding ID: 10659\n",
      "Insert of existing embedding ID: 10660\n",
      "Insert of existing embedding ID: 10661\n",
      "Insert of existing embedding ID: 10662\n",
      "Insert of existing embedding ID: 10663\n",
      "Insert of existing embedding ID: 10664\n",
      "Insert of existing embedding ID: 10665\n",
      "Insert of existing embedding ID: 10666\n",
      "Insert of existing embedding ID: 10667\n",
      "Insert of existing embedding ID: 10668\n",
      "Insert of existing embedding ID: 10669\n",
      "Insert of existing embedding ID: 10670\n",
      "Insert of existing embedding ID: 10671\n",
      "Insert of existing embedding ID: 10672\n",
      "Insert of existing embedding ID: 10673\n",
      "Insert of existing embedding ID: 10674\n",
      "Insert of existing embedding ID: 10675\n",
      "Insert of existing embedding ID: 10676\n",
      "Insert of existing embedding ID: 10677\n",
      "Insert of existing embedding ID: 10678\n",
      "Insert of existing embedding ID: 10679\n",
      "Insert of existing embedding ID: 10680\n",
      "Insert of existing embedding ID: 10681\n",
      "Insert of existing embedding ID: 10682\n",
      "Insert of existing embedding ID: 10683\n",
      "Insert of existing embedding ID: 10684\n",
      "Insert of existing embedding ID: 10685\n",
      "Insert of existing embedding ID: 10686\n",
      "Insert of existing embedding ID: 10687\n",
      "Insert of existing embedding ID: 10688\n",
      "Insert of existing embedding ID: 10689\n",
      "Insert of existing embedding ID: 10690\n",
      "Insert of existing embedding ID: 10691\n",
      "Insert of existing embedding ID: 10692\n",
      "Insert of existing embedding ID: 10693\n",
      "Insert of existing embedding ID: 10694\n",
      "Insert of existing embedding ID: 10695\n",
      "Insert of existing embedding ID: 10696\n",
      "Insert of existing embedding ID: 10697\n",
      "Insert of existing embedding ID: 10698\n",
      "Insert of existing embedding ID: 10699\n",
      "Insert of existing embedding ID: 10700\n",
      "Insert of existing embedding ID: 10701\n",
      "Insert of existing embedding ID: 10702\n",
      "Insert of existing embedding ID: 10703\n",
      "Insert of existing embedding ID: 10704\n",
      "Insert of existing embedding ID: 10705\n",
      "Insert of existing embedding ID: 10706\n",
      "Insert of existing embedding ID: 10707\n",
      "Insert of existing embedding ID: 10708\n",
      "Insert of existing embedding ID: 10709\n",
      "Insert of existing embedding ID: 10710\n",
      "Insert of existing embedding ID: 10711\n",
      "Insert of existing embedding ID: 10712\n",
      "Insert of existing embedding ID: 10713\n",
      "Insert of existing embedding ID: 10714\n",
      "Insert of existing embedding ID: 10715\n",
      "Insert of existing embedding ID: 10716\n",
      "Insert of existing embedding ID: 10717\n",
      "Insert of existing embedding ID: 10718\n",
      "Insert of existing embedding ID: 10719\n",
      "Insert of existing embedding ID: 10720\n",
      "Insert of existing embedding ID: 10721\n",
      "Insert of existing embedding ID: 10722\n",
      "Insert of existing embedding ID: 10723\n",
      "Insert of existing embedding ID: 10724\n",
      "Insert of existing embedding ID: 10725\n",
      "Insert of existing embedding ID: 10726\n",
      "Insert of existing embedding ID: 10727\n",
      "Insert of existing embedding ID: 10728\n",
      "Insert of existing embedding ID: 10729\n",
      "Insert of existing embedding ID: 10730\n",
      "Insert of existing embedding ID: 10731\n",
      "Insert of existing embedding ID: 10732\n",
      "Insert of existing embedding ID: 10733\n",
      "Insert of existing embedding ID: 10734\n",
      "Insert of existing embedding ID: 10735\n",
      "Insert of existing embedding ID: 10736\n",
      "Insert of existing embedding ID: 10737\n",
      "Insert of existing embedding ID: 10738\n",
      "Insert of existing embedding ID: 10739\n",
      "Insert of existing embedding ID: 10740\n",
      "Insert of existing embedding ID: 10741\n",
      "Insert of existing embedding ID: 10742\n",
      "Insert of existing embedding ID: 10743\n",
      "Insert of existing embedding ID: 10744\n",
      "Insert of existing embedding ID: 10745\n",
      "Insert of existing embedding ID: 10746\n",
      "Insert of existing embedding ID: 10747\n",
      "Insert of existing embedding ID: 10748\n",
      "Insert of existing embedding ID: 10749\n",
      "Insert of existing embedding ID: 10750\n",
      "Insert of existing embedding ID: 10751\n",
      "Insert of existing embedding ID: 10752\n",
      "Insert of existing embedding ID: 10753\n",
      "Insert of existing embedding ID: 10754\n",
      "Insert of existing embedding ID: 10755\n",
      "Insert of existing embedding ID: 10756\n",
      "Insert of existing embedding ID: 10757\n",
      "Insert of existing embedding ID: 10758\n",
      "Insert of existing embedding ID: 10764\n",
      "Add of existing embedding ID: 10639\n",
      "Add of existing embedding ID: 10640\n",
      "Add of existing embedding ID: 10641\n",
      "Add of existing embedding ID: 10642\n",
      "Add of existing embedding ID: 10643\n",
      "Add of existing embedding ID: 10644\n",
      "Add of existing embedding ID: 10645\n",
      "Add of existing embedding ID: 10646\n",
      "Add of existing embedding ID: 10647\n",
      "Add of existing embedding ID: 10648\n",
      "Add of existing embedding ID: 10649\n",
      "Add of existing embedding ID: 10650\n",
      "Add of existing embedding ID: 10651\n",
      "Add of existing embedding ID: 10652\n",
      "Add of existing embedding ID: 10653\n",
      "Add of existing embedding ID: 10654\n",
      "Add of existing embedding ID: 10655\n",
      "Add of existing embedding ID: 10656\n",
      "Add of existing embedding ID: 10657\n",
      "Add of existing embedding ID: 10658\n",
      "Add of existing embedding ID: 10659\n",
      "Add of existing embedding ID: 10660\n",
      "Add of existing embedding ID: 10661\n",
      "Add of existing embedding ID: 10662\n",
      "Add of existing embedding ID: 10663\n",
      "Add of existing embedding ID: 10664\n",
      "Add of existing embedding ID: 10665\n",
      "Add of existing embedding ID: 10666\n",
      "Add of existing embedding ID: 10667\n",
      "Add of existing embedding ID: 10668\n",
      "Add of existing embedding ID: 10669\n",
      "Add of existing embedding ID: 10670\n",
      "Add of existing embedding ID: 10671\n",
      "Add of existing embedding ID: 10672\n",
      "Add of existing embedding ID: 10673\n",
      "Add of existing embedding ID: 10674\n",
      "Add of existing embedding ID: 10675\n",
      "Add of existing embedding ID: 10676\n",
      "Add of existing embedding ID: 10677\n",
      "Add of existing embedding ID: 10678\n",
      "Add of existing embedding ID: 10679\n",
      "Add of existing embedding ID: 10680\n",
      "Add of existing embedding ID: 10681\n",
      "Add of existing embedding ID: 10682\n",
      "Add of existing embedding ID: 10683\n",
      "Add of existing embedding ID: 10684\n",
      "Add of existing embedding ID: 10685\n",
      "Add of existing embedding ID: 10686\n",
      "Add of existing embedding ID: 10687\n",
      "Add of existing embedding ID: 10688\n",
      "Add of existing embedding ID: 10689\n",
      "Add of existing embedding ID: 10690\n",
      "Add of existing embedding ID: 10691\n",
      "Add of existing embedding ID: 10692\n",
      "Add of existing embedding ID: 10693\n",
      "Add of existing embedding ID: 10694\n",
      "Add of existing embedding ID: 10695\n",
      "Add of existing embedding ID: 10696\n",
      "Add of existing embedding ID: 10697\n",
      "Add of existing embedding ID: 10698\n",
      "Add of existing embedding ID: 10699\n",
      "Add of existing embedding ID: 10700\n",
      "Add of existing embedding ID: 10701\n",
      "Add of existing embedding ID: 10702\n",
      "Add of existing embedding ID: 10703\n",
      "Add of existing embedding ID: 10704\n",
      "Add of existing embedding ID: 10705\n",
      "Add of existing embedding ID: 10706\n",
      "Add of existing embedding ID: 10707\n",
      "Add of existing embedding ID: 10708\n",
      "Add of existing embedding ID: 10709\n",
      "Add of existing embedding ID: 10710\n",
      "Add of existing embedding ID: 10711\n",
      "Add of existing embedding ID: 10712\n",
      "Add of existing embedding ID: 10713\n",
      "Add of existing embedding ID: 10714\n",
      "Add of existing embedding ID: 10715\n",
      "Add of existing embedding ID: 10716\n",
      "Add of existing embedding ID: 10717\n",
      "Add of existing embedding ID: 10718\n",
      "Add of existing embedding ID: 10719\n",
      "Add of existing embedding ID: 10720\n",
      "Add of existing embedding ID: 10721\n",
      "Add of existing embedding ID: 10722\n",
      "Add of existing embedding ID: 10723\n",
      "Add of existing embedding ID: 10724\n",
      "Add of existing embedding ID: 10725\n",
      "Add of existing embedding ID: 10726\n",
      "Add of existing embedding ID: 10727\n",
      "Add of existing embedding ID: 10728\n",
      "Add of existing embedding ID: 10729\n",
      "Add of existing embedding ID: 10730\n",
      "Add of existing embedding ID: 10731\n",
      "Add of existing embedding ID: 10732\n",
      "Add of existing embedding ID: 10733\n",
      "Add of existing embedding ID: 10734\n",
      "Add of existing embedding ID: 10735\n",
      "Add of existing embedding ID: 10736\n",
      "Add of existing embedding ID: 10737\n",
      "Add of existing embedding ID: 10738\n",
      "Add of existing embedding ID: 10739\n",
      "Add of existing embedding ID: 10740\n",
      "Add of existing embedding ID: 10741\n",
      "Add of existing embedding ID: 10742\n",
      "Add of existing embedding ID: 10743\n",
      "Add of existing embedding ID: 10744\n",
      "Add of existing embedding ID: 10745\n",
      "Add of existing embedding ID: 10746\n",
      "Add of existing embedding ID: 10747\n",
      "Add of existing embedding ID: 10748\n",
      "Add of existing embedding ID: 10749\n",
      "Add of existing embedding ID: 10750\n",
      "Add of existing embedding ID: 10751\n",
      "Add of existing embedding ID: 10752\n",
      "Add of existing embedding ID: 10753\n",
      "Add of existing embedding ID: 10754\n",
      "Add of existing embedding ID: 10755\n",
      "Add of existing embedding ID: 10756\n",
      "Add of existing embedding ID: 10757\n",
      "Add of existing embedding ID: 10758\n",
      "Add of existing embedding ID: 10764\n"
     ]
    }
   ],
   "source": [
    "docs=df[\"text\"].tolist() \n",
    "ids= [str(x) for x in df.index.tolist()]\n",
    "collection.add(\n",
    "    documents=docs,\n",
    "    ids=ids\n",
    ")"
   ]
  },
  {
   "cell_type": "code",
   "execution_count": 44,
   "id": "30a66e6f-720c-4129-ab3f-0ec656cf134d",
   "metadata": {},
   "outputs": [],
   "source": [
    "URI='http://139.84.142.100:8080'\n",
    "client = InferenceClient(model=URI)"
   ]
  },
  {
   "cell_type": "code",
   "execution_count": 58,
   "id": "fd941d84-1d9c-49f6-9249-32a7d5b31e16",
   "metadata": {},
   "outputs": [],
   "source": [
    "#query=\"What did Ke Huy Quan work on?\"\n",
    "#query=\"Which movie won the best music award?\"\n",
    "query=\"Did Lady Gaga win an award at Oscars 2023?\"\n",
    "#query=\"Who is the music director of RRR?\"\n",
    "context=generate_context(query)"
   ]
  },
  {
   "cell_type": "code",
   "execution_count": 59,
   "id": "18aa99d7-5f92-463a-9585-ed0cb499c928",
   "metadata": {},
   "outputs": [
    {
     "data": {
      "text/plain": [
       "'Monika Willi got nominated under the category, film editing, for the film Tár but did not win\\nMary Zophres got nominated under the category, costume design, for the film Babylon but did not win\\nMusic and Lyric by Lady Gaga and BloodPop got nominated under the category, music (original song), for the film Top Gun: Maverick but did not win\\nMark Coulier, Jason Baird and Aldo Signoretti got nominated under the category, makeup and hairstyling, for the film Elvis but did not win\\nSara Gunnarsdóttir and Pamela Ribon got nominated under the category, short film (animated), for the film My Year of Dicks but did not win\\nDede Gardner, Jeremy Kleiner and Frances McDormand, Producers got nominated under the category, best picture, for the film Women Talking but did not win\\nBaz Luhrmann, Catherine Martin, Gail Berman, Patrick McCormick and Schuyler Weiss, Producers got nominated under the category, best picture, for the film Elvis but did not win\\nLaura Poitras, Howard Gertler, John Lyons, Nan Goldin and Yoni Golijov got nominated under the category, documentary feature film, for the film All the Beauty and the Bloodshed but did not win\\nAna de Armas got nominated under the category, actress in a leading role, for the film Blonde but did not win\\nLachlan Pendragon got nominated under the category, short film (animated), for the film An Ostrich Told Me the World Is Fake and I Think I Believe It but did not win\\nNaomi Donne, Mike Marino and Mike Fontaine got nominated under the category, makeup and hairstyling, for the film The Batman but did not win\\nShirley Kurata got nominated under the category, costume design, for the film Everything Everywhere All at Once but did not win\\nCatherine Martin got nominated under the category, costume design, for the film Elvis but did not win\\nHeike Merker and Linda Eisenhamerová got nominated under the category, makeup and hairstyling, for the film All Quiet on the Western Front but did not win\\nMandy Walker got nominated under the category, cinematography, for the film Elvis but did not win'"
      ]
     },
     "execution_count": 59,
     "metadata": {},
     "output_type": "execute_result"
    }
   ],
   "source": [
    "context"
   ]
  },
  {
   "cell_type": "code",
   "execution_count": 60,
   "id": "20e296e1-f7b2-4ab9-9d81-b960b9dffea6",
   "metadata": {},
   "outputs": [],
   "source": [
    "system_prompt=\"\"\"\\\n",
    "You are a helpful AI assistant that can answer questions on Oscar 2023 awards. Answer based on the context provided. If you cannot find the correct answerm, say I don't know. Be concise and just include the response.\n",
    "\"\"\""
   ]
  },
  {
   "cell_type": "code",
   "execution_count": 61,
   "id": "14e18545-d2bb-451e-ba2f-341efb3f7690",
   "metadata": {},
   "outputs": [],
   "source": [
    "user_prompt=f\"\"\"\n",
    "Based on the context:\n",
    "{context}\n",
    "Answer the below query:\n",
    "{query}\n",
    "\"\"\""
   ]
  },
  {
   "cell_type": "code",
   "execution_count": 62,
   "id": "8dc4ad57-3125-490f-ae51-a1aa118f6009",
   "metadata": {},
   "outputs": [
    {
     "data": {
      "text/plain": [
       "'\\nBased on the context:\\nMonika Willi got nominated under the category, film editing, for the film Tár but did not win\\nMary Zophres got nominated under the category, costume design, for the film Babylon but did not win\\nMusic and Lyric by Lady Gaga and BloodPop got nominated under the category, music (original song), for the film Top Gun: Maverick but did not win\\nMark Coulier, Jason Baird and Aldo Signoretti got nominated under the category, makeup and hairstyling, for the film Elvis but did not win\\nSara Gunnarsdóttir and Pamela Ribon got nominated under the category, short film (animated), for the film My Year of Dicks but did not win\\nDede Gardner, Jeremy Kleiner and Frances McDormand, Producers got nominated under the category, best picture, for the film Women Talking but did not win\\nBaz Luhrmann, Catherine Martin, Gail Berman, Patrick McCormick and Schuyler Weiss, Producers got nominated under the category, best picture, for the film Elvis but did not win\\nLaura Poitras, Howard Gertler, John Lyons, Nan Goldin and Yoni Golijov got nominated under the category, documentary feature film, for the film All the Beauty and the Bloodshed but did not win\\nAna de Armas got nominated under the category, actress in a leading role, for the film Blonde but did not win\\nLachlan Pendragon got nominated under the category, short film (animated), for the film An Ostrich Told Me the World Is Fake and I Think I Believe It but did not win\\nNaomi Donne, Mike Marino and Mike Fontaine got nominated under the category, makeup and hairstyling, for the film The Batman but did not win\\nShirley Kurata got nominated under the category, costume design, for the film Everything Everywhere All at Once but did not win\\nCatherine Martin got nominated under the category, costume design, for the film Elvis but did not win\\nHeike Merker and Linda Eisenhamerová got nominated under the category, makeup and hairstyling, for the film All Quiet on the Western Front but did not win\\nMandy Walker got nominated under the category, cinematography, for the film Elvis but did not win\\nAnswer the below query:\\nDid Lady Gaga win an award at Oscars 2023?\\n'"
      ]
     },
     "execution_count": 62,
     "metadata": {},
     "output_type": "execute_result"
    }
   ],
   "source": [
    "user_prompt"
   ]
  },
  {
   "cell_type": "code",
   "execution_count": 63,
   "id": "d8915ec1-a886-4882-b5ce-769e2471073f",
   "metadata": {},
   "outputs": [
    {
     "data": {
      "text/plain": [
       "'No, Lady Gaga did not win an award at the Oscars 2023.'"
      ]
     },
     "execution_count": 63,
     "metadata": {},
     "output_type": "execute_result"
    }
   ],
   "source": [
    "chat_completion(system_prompt,user_prompt)"
   ]
  },
  {
   "cell_type": "code",
   "execution_count": null,
   "id": "909b5776-69b7-4a0a-ba74-59528a30627b",
   "metadata": {},
   "outputs": [],
   "source": []
  }
 ],
 "metadata": {
  "kernelspec": {
   "display_name": "Python 3 (ipykernel)",
   "language": "python",
   "name": "python3"
  },
  "language_info": {
   "codemirror_mode": {
    "name": "ipython",
    "version": 3
   },
   "file_extension": ".py",
   "mimetype": "text/x-python",
   "name": "python",
   "nbconvert_exporter": "python",
   "pygments_lexer": "ipython3",
   "version": "3.10.12"
  }
 },
 "nbformat": 4,
 "nbformat_minor": 5
}
