{
 "cells": [
  {
   "cell_type": "code",
   "execution_count": 1,
   "id": "36aaa8b3-4f04-4b84-b138-3718365ae735",
   "metadata": {},
   "outputs": [
    {
     "name": "stderr",
     "output_type": "stream",
     "text": [
      "/usr/local/lib/python3.8/dist-packages/tqdm/auto.py:21: TqdmWarning: IProgress not found. Please update jupyter and ipywidgets. See https://ipywidgets.readthedocs.io/en/stable/user_install.html\n",
      "  from .autonotebook import tqdm as notebook_tqdm\n"
     ]
    }
   ],
   "source": [
    "from huggingface_hub import InferenceClient"
   ]
  },
  {
   "cell_type": "code",
   "execution_count": 2,
   "id": "b6c738d3-e786-4217-8f3d-a548ce1aff11",
   "metadata": {},
   "outputs": [],
   "source": [
    "URI='http://139.84.131.118:8080'\n",
    "client = InferenceClient(model=URI)"
   ]
  },
  {
   "cell_type": "code",
   "execution_count": 3,
   "id": "c149cb54-c6ee-4c59-83b0-f52c2f5081d0",
   "metadata": {},
   "outputs": [],
   "source": [
    "def chat_completion(system_prompt, user_prompt,length=100,temperature=None,repetition_penalty=1.0,top_p=None,top_k=None):\n",
    "    final_prompt=f\"\"\"<s>[INST]<<SYS>>\n",
    "    {system_prompt}\n",
    "    <</SYS>>\n",
    "    \n",
    "    {user_prompt} [/INST]\"\"\"\n",
    "    return client.text_generation(prompt=final_prompt,max_new_tokens = length,temperature=temperature,top_p=top_p,top_k=top_k)"
   ]
  },
  {
   "cell_type": "code",
   "execution_count": 4,
   "id": "a243a778-801a-4d6e-92b5-82451d294f16",
   "metadata": {},
   "outputs": [],
   "source": [
    "system_prompt=\"\"\"\n",
    "You are an assistant to help me write short stories.\n",
    "\"\"\""
   ]
  },
  {
   "cell_type": "code",
   "execution_count": 5,
   "id": "5de2c8bd-1755-4dce-8f99-a5354efb9ba1",
   "metadata": {},
   "outputs": [],
   "source": [
    "user_prompt=\"\"\"\n",
    "Here's an example of a fairy tale opening: 'Once upon a time, in a kingdom far, far away, there lived a gentle dragon who loved to play in the meadows.' \n",
    "Now, start a new fairy tale story with the sentence: 'In a land filled with whispers and magic, there was a peculiar rabbit known to all.\n",
    "\"\"\""
   ]
  },
  {
   "cell_type": "code",
   "execution_count": 6,
   "id": "e0ec7269-7601-4815-8373-bdf5ab233078",
   "metadata": {},
   "outputs": [
    {
     "name": "stdout",
     "output_type": "stream",
     "text": [
      "Great! I'd be happy to help you write a new fairy tale story. Here's my continuation of the sentence:\n",
      "\n",
      "In a land filled with whispers and magic, there was a peculiar rabbit known to all as the \"Whisperer of Wonders.\" This enigmatic creature had the ability to hear the most minute whispers of the forest, and to grant the deepest desires of those who sought its help.\n",
      "\n",
      "How does\n"
     ]
    }
   ],
   "source": [
    "print(chat_completion(system_prompt, user_prompt).strip())"
   ]
  },
  {
   "cell_type": "code",
   "execution_count": 7,
   "id": "2feddd8a-beb2-4383-a60f-677c7a4a14f7",
   "metadata": {},
   "outputs": [
    {
     "name": "stdout",
     "output_type": "stream",
     "text": [
      "Great! I'd be happy to help you write a new fairy tale story. Here's my continuation of the sentence:\n",
      "\n",
      "In a land filled with whispers and magic, there was a peculiar rabbit known to all as the \"Whisperer of Wonders.\" This enigmatic creature had the ability to hear the most minute whispers of the forest, and to grant the deepest desires of those who sought its help.\n",
      "\n",
      "How does that sound? Do you have any ideas for where the story could go from here?\n"
     ]
    }
   ],
   "source": [
    "print(chat_completion(system_prompt, user_prompt,length=1500).strip())"
   ]
  },
  {
   "cell_type": "code",
   "execution_count": 8,
   "id": "c81589ba-1673-4abf-8f61-002db6c0d523",
   "metadata": {},
   "outputs": [
    {
     "name": "stdout",
     "output_type": "stream",
     "text": [
      "Great! I'd be delighted to help you write a new fairy tale story. Here's my continuation of the sentence:\n",
      "\n",
      "In a land filled with whispers and magic, there was a peculiar rabbit known to all as the \"Whisperer of Wonders.\" This enigmatic creature had the ability to hear the most minute whispers of the forest, and its ears were said to be attuned to the most subtle changes in the natural world.\n",
      "\n",
      "What do you think? Would you like me to continue the story, or would you like to add any details or plot twists of your own?\n"
     ]
    }
   ],
   "source": [
    "print(chat_completion(system_prompt, user_prompt,length=1500,temperature=0.2).strip())"
   ]
  },
  {
   "cell_type": "code",
   "execution_count": 12,
   "id": "3d12d22e-1834-45e0-a782-8f2a31fdfa93",
   "metadata": {},
   "outputs": [
    {
     "name": "stdout",
     "output_type": "stream",
     "text": [
      "Great! I'd be delighted to help you write a new fairy tale story. Here's my continuation of the sentence:\n",
      "\n",
      "In a land filled with whispers and magic, there was a peculiar rabbit known to all as the \"Moonwhisker.\" This enigmatic creature was said to have the power to control the tides and summon the stars, but it was a secret that only a select few knew.\n",
      "\n",
      "How does that sound? Do you have any specific ideas or elements you'd like to include in the story?\n"
     ]
    }
   ],
   "source": [
    "print(chat_completion(system_prompt, user_prompt,length=1500,temperature=0.1).strip())"
   ]
  },
  {
   "cell_type": "code",
   "execution_count": 13,
   "id": "7d77b43e-f5cd-4223-9d1e-d98871d36a34",
   "metadata": {},
   "outputs": [
    {
     "name": "stdout",
     "output_type": "stream",
     "text": [
      "Great! I'd be happy to help you write a new fairy tale story. Here's my continuation of the sentence:\n",
      "\n",
      "In a land filled with whispers and magic, there was a peculiar rabbit known to all as the \"Whisperer of Wonders.\" This enigmatic creature had the ability to hear the most minute whispers of the forest, and to grant the deepest desires of those who sought its help.\n",
      "\n",
      "How does that sound? Do you have any ideas for where the story could go from here?\n"
     ]
    }
   ],
   "source": [
    "print(chat_completion(system_prompt, user_prompt,length=1500,repetition_penalty=2.0).strip())"
   ]
  },
  {
   "cell_type": "code",
   "execution_count": 15,
   "id": "e5f81bb8-4a65-48f3-a8ca-55d1ade9db59",
   "metadata": {},
   "outputs": [
    {
     "name": "stdout",
     "output_type": "stream",
     "text": [
      "Great! Here's a new fairy tale opening:\n",
      "\n",
      "In a land filled with whispers and magic, there was a peculiar rabbit known to all as the \"Moonstruck Hare.\" This enigmatic creature was said to have the power to control the tides and summon the stars with a mere twitch of its whiskers. Its fur shimmered with a soft, ethereal glow, and its eyes seemed to hold the secrets of the universe.\n",
      "\n",
      "The villagers would often gather around the fire to share tales of the Moonstruck Hare's mystical exploits, from the time it conjured a rainbow from a single raindrop to the night it spoke with the spirits of the forest. Some claimed to have seen the Hare dance under the light of a full moon, its paws barely touching the ground as it spun in a mad, mesmerizing circle.\n",
      "\n",
      "But despite its otherworldly powers, the Moonstruck Hare was a solitary creature, preferring the quiet solitude of the forest to the bustle of the village. It was said that only those with the purest of hearts and the most pure of intentions could catch a glimpse of the Hare's true form, and even then, it would only reveal itself to those who truly needed its help.\n",
      "\n",
      "What do you think? Would you like to continue the story or start a new one?\n"
     ]
    }
   ],
   "source": [
    "print(chat_completion(system_prompt, user_prompt,length=1500,top_p=0.3).strip())"
   ]
  },
  {
   "cell_type": "code",
   "execution_count": 21,
   "id": "0445c926-11da-4da7-ae15-43cb39fbed5d",
   "metadata": {},
   "outputs": [
    {
     "name": "stdout",
     "output_type": "stream",
     "text": [
      "Great! Here's a new fairy tale opening:\n",
      "\n",
      "In a land filled with whispers and magic, there was a peculiar rabbit known to all as the Master of Shadows. This mysterious creature was said to have the power to manipulate darkness and light, and its presence was both feared and revered by the inhabitants of the land.\n",
      "\n",
      "The rabbit was a solitary being, preferring to keep to itself and avoid the company of others. However, its reputation as a master of the shadows had drawn the attention of a young apprentice, who sought to learn the secrets of the Master of Shadows.\n",
      "\n",
      "Determined to uncover the truth behind the rumors, the apprentice set out on a journey to find the elusive creature. Little did they know, their quest would lead them down a path of danger, magic, and self-discovery.\n"
     ]
    }
   ],
   "source": [
    "print(chat_completion(system_prompt, user_prompt,length=1500,top_k=1).strip())"
   ]
  },
  {
   "cell_type": "code",
   "execution_count": null,
   "id": "04555fd4-04b8-4252-b561-a042ef9baccb",
   "metadata": {},
   "outputs": [],
   "source": []
  }
 ],
 "metadata": {
  "kernelspec": {
   "display_name": "Python 3 (ipykernel)",
   "language": "python",
   "name": "python3"
  },
  "language_info": {
   "codemirror_mode": {
    "name": "ipython",
    "version": 3
   },
   "file_extension": ".py",
   "mimetype": "text/x-python",
   "name": "python",
   "nbconvert_exporter": "python",
   "pygments_lexer": "ipython3",
   "version": "3.8.10"
  }
 },
 "nbformat": 4,
 "nbformat_minor": 5
}
