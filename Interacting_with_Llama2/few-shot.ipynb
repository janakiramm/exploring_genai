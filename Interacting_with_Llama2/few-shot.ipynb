{
 "cells": [
  {
   "cell_type": "code",
   "execution_count": 1,
   "id": "36aaa8b3-4f04-4b84-b138-3718365ae735",
   "metadata": {},
   "outputs": [
    {
     "name": "stderr",
     "output_type": "stream",
     "text": [
      "/usr/local/lib/python3.8/dist-packages/tqdm/auto.py:21: TqdmWarning: IProgress not found. Please update jupyter and ipywidgets. See https://ipywidgets.readthedocs.io/en/stable/user_install.html\n",
      "  from .autonotebook import tqdm as notebook_tqdm\n"
     ]
    }
   ],
   "source": [
    "from huggingface_hub import InferenceClient"
   ]
  },
  {
   "cell_type": "code",
   "execution_count": 2,
   "id": "b6c738d3-e786-4217-8f3d-a548ce1aff11",
   "metadata": {},
   "outputs": [],
   "source": [
    "URI='http://139.84.131.118:8080'\n",
    "client = InferenceClient(model=URI)"
   ]
  },
  {
   "cell_type": "code",
   "execution_count": 3,
   "id": "c149cb54-c6ee-4c59-83b0-f52c2f5081d0",
   "metadata": {},
   "outputs": [],
   "source": [
    "def chat_completion(system_prompt, user_prompt,length=100):\n",
    "    final_prompt=f\"\"\"\\<s>[INST]<<SYS>>\n",
    "    {system_prompt}\n",
    "    <</SYS>>\n",
    "    \n",
    "    {user_prompt} [/INST]\"\"\"\n",
    "    return client.text_generation(prompt=final_prompt,max_new_tokens = length).strip()"
   ]
  },
  {
   "cell_type": "code",
   "execution_count": 4,
   "id": "a243a778-801a-4d6e-92b5-82451d294f16",
   "metadata": {},
   "outputs": [],
   "source": [
    "system_prompt=\"\"\"\n",
    "You are a helpful AI assistant. Please be concise in your responses.\n",
    "\"\"\""
   ]
  },
  {
   "cell_type": "code",
   "execution_count": 5,
   "id": "4b9a1748-94f4-4bbe-84ae-093503d57394",
   "metadata": {},
   "outputs": [],
   "source": [
    "user_prompt=\"\"\"\n",
    "Based on the below examples, complete the task.\n",
    "\n",
    "Example 1:\n",
    "Input: \"The sun rises in the\"\n",
    "Output: \"east.\"\n",
    "\n",
    "Example 2:\n",
    "Input: \"An apple a day keeps the\"\n",
    "Output: \"doctor away.\"\n",
    "\n",
    "Task:\n",
    "Input: \"The pen is mightier\"\n",
    "\"\"\""
   ]
  },
  {
   "cell_type": "code",
   "execution_count": 6,
   "id": "7532c8f2-ad93-437e-a2d4-dad88e02d801",
   "metadata": {},
   "outputs": [
    {
     "name": "stdout",
     "output_type": "stream",
     "text": [
      "Of course! I'd be happy to help. Here's the completion of the task based on the examples provided:\n",
      "\n",
      "Input: \"The pen is mightier than the\"\n",
      "Output: \"sword.\"\n"
     ]
    }
   ],
   "source": [
    "print(chat_completion(system_prompt, user_prompt))"
   ]
  },
  {
   "cell_type": "code",
   "execution_count": 7,
   "id": "f0dcf5a5-e6c7-4350-a405-2cc5ca7765aa",
   "metadata": {},
   "outputs": [],
   "source": [
    "user_prompt=\"\"\"\n",
    "Based on the below examples, complete the task.\n",
    "\n",
    "Example 1:\n",
    "Input: \"Calculate 3 + 5\"\n",
    "Output: \"8\"\n",
    "\n",
    "Example 2:\n",
    "Input: \"What is 9 multiplied by 2?\"\n",
    "Output: \"18\"\n",
    "\n",
    "Task Prompt:\n",
    "Input: \"Subtract 6 from 100.\"\n",
    "Output: \n",
    "\"\"\""
   ]
  },
  {
   "cell_type": "code",
   "execution_count": 8,
   "id": "9848c810-311e-4e36-b32d-eaee6e044ecf",
   "metadata": {},
   "outputs": [
    {
     "name": "stdout",
     "output_type": "stream",
     "text": [
      "Of course! I'd be happy to help you with that task. Here's the output for the task you provided:\n",
      "\n",
      "Input: \"Subtract 6 from 100.\"\n",
      "Output: 94\n"
     ]
    }
   ],
   "source": [
    "print(chat_completion(system_prompt, user_prompt,length=200))"
   ]
  },
  {
   "cell_type": "code",
   "execution_count": null,
   "id": "fcdd954b-29ad-46a6-91d2-939de34f2974",
   "metadata": {},
   "outputs": [],
   "source": []
  }
 ],
 "metadata": {
  "kernelspec": {
   "display_name": "Python 3 (ipykernel)",
   "language": "python",
   "name": "python3"
  },
  "language_info": {
   "codemirror_mode": {
    "name": "ipython",
    "version": 3
   },
   "file_extension": ".py",
   "mimetype": "text/x-python",
   "name": "python",
   "nbconvert_exporter": "python",
   "pygments_lexer": "ipython3",
   "version": "3.8.10"
  }
 },
 "nbformat": 4,
 "nbformat_minor": 5
}
