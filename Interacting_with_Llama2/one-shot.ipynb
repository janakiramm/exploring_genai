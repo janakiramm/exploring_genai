{
 "cells": [
  {
   "cell_type": "code",
   "execution_count": 1,
   "id": "06611f11-44af-47c3-ad99-16c55c4dad35",
   "metadata": {},
   "outputs": [
    {
     "name": "stderr",
     "output_type": "stream",
     "text": [
      "/usr/local/lib/python3.8/dist-packages/tqdm/auto.py:21: TqdmWarning: IProgress not found. Please update jupyter and ipywidgets. See https://ipywidgets.readthedocs.io/en/stable/user_install.html\n",
      "  from .autonotebook import tqdm as notebook_tqdm\n"
     ]
    }
   ],
   "source": [
    "from huggingface_hub import InferenceClient"
   ]
  },
  {
   "cell_type": "code",
   "execution_count": 2,
   "id": "7c2ab029-35e0-4e7f-b148-48facac08b74",
   "metadata": {},
   "outputs": [],
   "source": [
    "URI='http://139.84.131.118:8080'\n",
    "client = InferenceClient(model=URI)"
   ]
  },
  {
   "cell_type": "code",
   "execution_count": 3,
   "id": "381c4261-fe2f-45a0-a3e6-677570685b99",
   "metadata": {},
   "outputs": [],
   "source": [
    "def chat_completion(system_prompt, user_prompt,length=100):\n",
    "    final_prompt=f\"\"\"\\<s>[INST]<<SYS>>\n",
    "    {system_prompt}\n",
    "    <</SYS>>\n",
    "    \n",
    "    {user_prompt} [/INST]\"\"\"\n",
    "    return client.text_generation(prompt=final_prompt,max_new_tokens = length).strip()"
   ]
  },
  {
   "cell_type": "code",
   "execution_count": 4,
   "id": "05396751-c222-4e36-ae73-1a73f06d2369",
   "metadata": {},
   "outputs": [],
   "source": [
    "system_prompt=\"\"\"\n",
    "You are language translator specializing in English and French. Don't say anything else but the value.\n",
    "\"\"\""
   ]
  },
  {
   "cell_type": "code",
   "execution_count": 5,
   "id": "75a6ea38-ceec-4e83-b2bb-0218dee91524",
   "metadata": {},
   "outputs": [],
   "source": [
    "user_prompt=\"\"\"\n",
    "Here is a sentence in English and its translation in French: [EN]'Hello, how are you?' [FR]'Bonjour, comment ça va?' \n",
    "Translate the following sentence into French: 'I am doing well, thank you!\n",
    "\"\"\""
   ]
  },
  {
   "cell_type": "code",
   "execution_count": 6,
   "id": "cb7e78cd-61d4-4fb9-af38-862c3c25f8f6",
   "metadata": {},
   "outputs": [
    {
     "name": "stdout",
     "output_type": "stream",
     "text": [
      "[FR] Je vais bien, merci!\n"
     ]
    }
   ],
   "source": [
    "print(chat_completion(system_prompt, user_prompt))"
   ]
  },
  {
   "cell_type": "code",
   "execution_count": 7,
   "id": "7249aa8c-0093-4648-af72-3554ce8aeff5",
   "metadata": {},
   "outputs": [],
   "source": [
    "system_prompt=\"\"\"\n",
    "You are a poet specializing in writing Japanese Haikus.Be concise and respond only with the Haiku. Don't say anything else but the value.\n",
    "\"\"\""
   ]
  },
  {
   "cell_type": "code",
   "execution_count": 8,
   "id": "ec76a13f-75b1-4e4d-9af2-28cc5a5dd4c5",
   "metadata": {},
   "outputs": [],
   "source": [
    "user_prompt=\"\"\"\n",
    "Here is an example of a haiku, a traditional form of Japanese poetry:\n",
    "\n",
    "Old pond in stillness,\n",
    "Frog leaps, water's sound echoes,\n",
    "Silence returns soon.\n",
    "\n",
    "Now, write a new haiku about the autumn season.\n",
    "\"\"\""
   ]
  },
  {
   "cell_type": "code",
   "execution_count": 9,
   "id": "5f75e2d7-e407-40a6-a768-c94e090f1c6f",
   "metadata": {},
   "outputs": [
    {
     "name": "stdout",
     "output_type": "stream",
     "text": [
      "Leaves fall, sky's embrace,\n",
      "Golden hues dance, then fade,\n",
      "Winter's silence claims.\n"
     ]
    }
   ],
   "source": [
    "print(chat_completion(system_prompt, user_prompt))"
   ]
  },
  {
   "cell_type": "code",
   "execution_count": null,
   "id": "76b5ccbb-f321-4c6e-88ec-a7fa23780e8d",
   "metadata": {},
   "outputs": [],
   "source": []
  }
 ],
 "metadata": {
  "kernelspec": {
   "display_name": "Python 3 (ipykernel)",
   "language": "python",
   "name": "python3"
  },
  "language_info": {
   "codemirror_mode": {
    "name": "ipython",
    "version": 3
   },
   "file_extension": ".py",
   "mimetype": "text/x-python",
   "name": "python",
   "nbconvert_exporter": "python",
   "pygments_lexer": "ipython3",
   "version": "3.8.10"
  }
 },
 "nbformat": 4,
 "nbformat_minor": 5
}
