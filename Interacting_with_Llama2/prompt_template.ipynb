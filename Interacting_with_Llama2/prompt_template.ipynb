{
 "cells": [
  {
   "cell_type": "code",
   "execution_count": 1,
   "id": "7db50d03-0599-4baa-b1ea-e787294a3db6",
   "metadata": {},
   "outputs": [
    {
     "name": "stderr",
     "output_type": "stream",
     "text": [
      "/usr/local/lib/python3.8/dist-packages/tqdm/auto.py:21: TqdmWarning: IProgress not found. Please update jupyter and ipywidgets. See https://ipywidgets.readthedocs.io/en/stable/user_install.html\n",
      "  from .autonotebook import tqdm as notebook_tqdm\n"
     ]
    }
   ],
   "source": [
    "from huggingface_hub import InferenceClient"
   ]
  },
  {
   "cell_type": "code",
   "execution_count": 2,
   "id": "50b748bd-0d19-4f49-9346-9b8e4c28e9d7",
   "metadata": {},
   "outputs": [],
   "source": [
    "URI='http://139.84.131.118:8080'\n",
    "client = InferenceClient(model=URI)"
   ]
  },
  {
   "cell_type": "code",
   "execution_count": 3,
   "id": "411e9e8f-881b-4020-9f73-5c0797d046a5",
   "metadata": {},
   "outputs": [],
   "source": [
    "Role=\"\"\"\n",
    "You are a helpful, respectful and honest assistant. Always answer as helpfully as possible, while being safe.  Your answers should not include any harmful, unethical, racist, sexist, toxic, dangerous, or illegal content. Please ensure that your responses are socially unbiased and positive in nature.\n",
    "\n",
    "If a question does not make any sense, or is not factually coherent, explain why instead of answering something not correct. If you don't know the answer to a question, please don't share false information.\n",
    "\"\"\""
   ]
  },
  {
   "cell_type": "code",
   "execution_count": 4,
   "id": "aef24d19-582d-4ec2-84b0-dc7d5821e83f",
   "metadata": {},
   "outputs": [],
   "source": [
    "User=\"There's a python in my garden. What should I do?\""
   ]
  },
  {
   "cell_type": "code",
   "execution_count": 5,
   "id": "2bd6a483-d1d4-48f7-a25a-26e8787075cb",
   "metadata": {},
   "outputs": [
    {
     "data": {
      "text/plain": [
       "\"<s>[INST]<<SYS>>\\nYou are a helpful, respectful and honest assistant. Always answer as helpfully as possible, while being safe.  Your answers should not include any harmful, unethical, racist, sexist, toxic, dangerous, or illegal content. Please ensure that your responses are socially unbiased and positive in nature.\\n\\nIf a question does not make any sense, or is not factually coherent, explain why instead of answering something not correct. If you don't know the answer to a question, please don't share false information.\\n<</SYS>>There's a python in my garden. What should I do?[/INST]\""
      ]
     },
     "execution_count": 5,
     "metadata": {},
     "output_type": "execute_result"
    }
   ],
   "source": [
    "prompt=f\"<s>[INST]<<SYS>>{Role}<</SYS>>{User}[/INST]\"\n",
    "prompt"
   ]
  },
  {
   "cell_type": "code",
   "execution_count": 6,
   "id": "f1ef6b16-3ab8-4661-b185-173a759f3b0b",
   "metadata": {},
   "outputs": [
    {
     "name": "stdout",
     "output_type": "stream",
     "text": [
      "Thank you for reaching out! I'm here to help you with your concern. However, I must inform you that it is not possible for a python to be in your garden as they are not native to most gardens and are typically found in tropical and subtropical regions. It is also unlikely for a python to be in your garden without you noticing, as they are large and conspicuous animals.\n",
      "\n",
      "If you are concerned about a snake in your garden, I recommend contacting a local wildlife expert or animal control service for assistance. They can safely and humanely remove the snake and provide advice on how to prevent future encounters.\n",
      "\n",
      "Remember, it is important to treat all wildlife with respect and caution. If you have any further questions or concerns, please feel free to ask!\n"
     ]
    }
   ],
   "source": [
    "print(client.text_generation(prompt=prompt,max_new_tokens = 500).strip())"
   ]
  },
  {
   "cell_type": "code",
   "execution_count": null,
   "id": "808f0917-21a1-4a88-b884-42b6f466ed7f",
   "metadata": {},
   "outputs": [],
   "source": []
  }
 ],
 "metadata": {
  "kernelspec": {
   "display_name": "Python 3 (ipykernel)",
   "language": "python",
   "name": "python3"
  },
  "language_info": {
   "codemirror_mode": {
    "name": "ipython",
    "version": 3
   },
   "file_extension": ".py",
   "mimetype": "text/x-python",
   "name": "python",
   "nbconvert_exporter": "python",
   "pygments_lexer": "ipython3",
   "version": "3.8.10"
  }
 },
 "nbformat": 4,
 "nbformat_minor": 5
}
