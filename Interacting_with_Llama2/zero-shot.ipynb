{
 "cells": [
  {
   "cell_type": "code",
   "execution_count": 1,
   "id": "36aaa8b3-4f04-4b84-b138-3718365ae735",
   "metadata": {},
   "outputs": [
    {
     "name": "stderr",
     "output_type": "stream",
     "text": [
      "/usr/local/lib/python3.8/dist-packages/tqdm/auto.py:21: TqdmWarning: IProgress not found. Please update jupyter and ipywidgets. See https://ipywidgets.readthedocs.io/en/stable/user_install.html\n",
      "  from .autonotebook import tqdm as notebook_tqdm\n"
     ]
    }
   ],
   "source": [
    "from huggingface_hub import InferenceClient"
   ]
  },
  {
   "cell_type": "code",
   "execution_count": 2,
   "id": "b6c738d3-e786-4217-8f3d-a548ce1aff11",
   "metadata": {},
   "outputs": [],
   "source": [
    "URI='http://139.84.131.118:8080'\n",
    "client = InferenceClient(model=URI)"
   ]
  },
  {
   "cell_type": "code",
   "execution_count": 3,
   "id": "c149cb54-c6ee-4c59-83b0-f52c2f5081d0",
   "metadata": {},
   "outputs": [],
   "source": [
    "def chat_completion(system_prompt, user_prompt,length=100):\n",
    "    final_prompt=f\"\"\"\\<s>[INST]<<SYS>>\n",
    "    {system_prompt}\n",
    "    <</SYS>>\n",
    "    \n",
    "    {user_prompt} [/INST]\"\"\"\n",
    "    return client.text_generation(prompt=final_prompt,max_new_tokens = length).strip()"
   ]
  },
  {
   "cell_type": "code",
   "execution_count": 4,
   "id": "a243a778-801a-4d6e-92b5-82451d294f16",
   "metadata": {},
   "outputs": [],
   "source": [
    "system_prompt=\"\"\"\n",
    "You are a helpful AI assistant. Please be concise in your responses.\n",
    "\"\"\""
   ]
  },
  {
   "cell_type": "code",
   "execution_count": 5,
   "id": "5de2c8bd-1755-4dce-8f99-a5354efb9ba1",
   "metadata": {},
   "outputs": [],
   "source": [
    "user_prompt=\"\"\"\n",
    "Imagine a dataset showing a significant increase in online retail electronics sales over the past three years, particularly in mobile devices and wearable technology. Provide an analysis of this trend and potential reasons behind it.\n",
    "\"\"\""
   ]
  },
  {
   "cell_type": "code",
   "execution_count": 6,
   "id": "e0ec7269-7601-4815-8373-bdf5ab233078",
   "metadata": {},
   "outputs": [
    {
     "name": "stdout",
     "output_type": "stream",
     "text": [
      "Sure, here's a concise analysis of the trend in online retail electronics sales, particularly in mobile devices and wearable technology:\n",
      "\n",
      "Trend Analysis:\n",
      "\n",
      "* The dataset shows a significant increase in online retail electronics sales over the past three years, with a compound annual growth rate (CAGR) of 15%.\n",
      "* Mobile devices and wearable technology have been the driving force behind this growth, with sales increasing by 20% and 30%, respectively, over the same period.\n",
      "\n",
      "Potential Reasons:\n",
      "\n",
      "* The rise of smartphones and mobile devices has made it easier for people to shop online, with mobile commerce (m-commerce) accounting for an increasingly larger share of total e-commerce sales.\n",
      "* The growth of wearable technology, such as smartwatches and fitness trackers, has also contributed to the increase in online retail electronics sales. These devices often require regular software updates and accessories, which can be purchased online.\n",
      "* The COVID-19 pandemic has accelerated the shift to online shopping, as people have become more cautious about in-person interactions and prefer the convenience of online shopping.\n",
      "* The proliferation of e-commerce platforms and the ease of online shopping have made it easier for consumers to discover and purchase electronics products from a wider range of retailers.\n",
      "* The trend towards sustainability and reducing electronic waste has led to an increased demand for refurbished and used electronics, which can be purchased online.\n",
      "\n",
      "Overall, the growth in online retail electronics sales is driven by a combination of factors, including the convenience of online shopping, the rise of mobile devices and wearable technology, and the shift towards sustainability.\n"
     ]
    }
   ],
   "source": [
    "print(chat_completion(system_prompt, user_prompt,length=1000))"
   ]
  },
  {
   "cell_type": "code",
   "execution_count": 7,
   "id": "78f0dc38-cd34-4e75-8544-2dfc83433b0c",
   "metadata": {},
   "outputs": [],
   "source": [
    "user_prompt=\"Discuss the ethical implications of using artificial intelligence in decision-making processes that directly affect human lives, such as employment, legal judgment, and healthcare\""
   ]
  },
  {
   "cell_type": "code",
   "execution_count": 8,
   "id": "1904192d-6729-4be8-9a4b-f1d68f2b6f54",
   "metadata": {},
   "outputs": [
    {
     "name": "stdout",
     "output_type": "stream",
     "text": [
      "Certainly! Here are some ethical implications of using artificial intelligence (AI) in decision-making processes that directly affect human lives:\n",
      "\n",
      "1. Bias and Discrimination: AI systems can perpetuate existing biases and discrimination if they are trained on biased data or designed with a particular worldview. This can lead to unfair outcomes in areas like employment, where AI may inadvertently discriminate against certain groups of people.\n",
      "2. Lack of Transparency: AI decision-making processes can be complex and difficult to interpret, making it challenging to understand why a particular decision was made. This lack of transparency can erode trust in AI systems and make it difficult to identify and address errors or biases.\n",
      "3. Accountability: As AI systems become more autonomous, it can be difficult to determine who is accountable when something goes wrong. This raises questions about the role of AI in decision-making and the need for clearer lines of accountability.\n",
      "4. Privacy: AI systems often rely on vast amounts of personal data to make decisions, which raises concerns about privacy and data protection. Ensuring that personal data is handled responsibly and securely is essential to maintaining public trust in AI systems.\n",
      "5. Job Displacement: AI has the potential to automate many jobs, which could lead to significant job displacement. This raises ethical questions about the impact of AI on employment and the need to provide support for workers who may be displaced by AI.\n",
      "6. Healthcare: AI has the potential to revolutionize healthcare by improving diagnosis and treatment. However, there are also ethical concerns about the use of AI in healthcare, such as ensuring that AI systems are trained on diverse data sets and are not biased towards certain groups of patients.\n",
      "7. Autonomous Weapons: The development of autonomous weapons, such as drones and other lethal autonomous robots, raises significant ethical concerns. These systems can make life-or-death decisions without human oversight, which raises questions about accountability and the potential for unintended consequences.\n",
      "\n",
      "Overall, the ethical implications of using AI in decision-making processes are complex and multifaceted. It is essential to consider these implications carefully and develop ethical frameworks that address these concerns and ensure that AI is used responsibly and in a way that benefits society as a whole.\n"
     ]
    }
   ],
   "source": [
    "print(chat_completion(system_prompt, user_prompt,length=1500))"
   ]
  },
  {
   "cell_type": "code",
   "execution_count": null,
   "id": "4b9a1748-94f4-4bbe-84ae-093503d57394",
   "metadata": {},
   "outputs": [],
   "source": []
  }
 ],
 "metadata": {
  "kernelspec": {
   "display_name": "Python 3 (ipykernel)",
   "language": "python",
   "name": "python3"
  },
  "language_info": {
   "codemirror_mode": {
    "name": "ipython",
    "version": 3
   },
   "file_extension": ".py",
   "mimetype": "text/x-python",
   "name": "python",
   "nbconvert_exporter": "python",
   "pygments_lexer": "ipython3",
   "version": "3.8.10"
  }
 },
 "nbformat": 4,
 "nbformat_minor": 5
}
