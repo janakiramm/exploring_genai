{
 "cells": [
  {
   "cell_type": "code",
   "execution_count": null,
   "id": "45873da6-f68d-4ca1-af25-d93a41fe8d79",
   "metadata": {},
   "outputs": [],
   "source": [
    "from langchain.llms import HuggingFaceTextGenInference"
   ]
  },
  {
   "cell_type": "code",
   "execution_count": null,
   "id": "e2f0398a-b833-4887-b92e-60ffb614f771",
   "metadata": {},
   "outputs": [],
   "source": [
    "import warnings\n",
    "warnings.simplefilter('ignore')"
   ]
  },
  {
   "cell_type": "code",
   "execution_count": null,
   "id": "7be0cf70-27b5-4962-8e82-f470a5d74d4c",
   "metadata": {},
   "outputs": [],
   "source": [
    "URI=\"http://139.84.138.178:8080/\""
   ]
  },
  {
   "cell_type": "code",
   "execution_count": null,
   "id": "d2bcf4a4-2a83-4b2a-97b2-201d44463720",
   "metadata": {},
   "outputs": [],
   "source": [
    "llm = HuggingFaceTextGenInference(inference_server_url=URI)"
   ]
  },
  {
   "cell_type": "code",
   "execution_count": null,
   "id": "22b56016-3fe2-42e1-a720-2295a272b92a",
   "metadata": {},
   "outputs": [],
   "source": [
    "print(llm(\"What is the capital of France?\").strip())"
   ]
  }
 ],
 "metadata": {
  "kernelspec": {
   "display_name": "Python 3 (ipykernel)",
   "language": "python",
   "name": "python3"
  },
  "language_info": {
   "codemirror_mode": {
    "name": "ipython",
    "version": 3
   },
   "file_extension": ".py",
   "mimetype": "text/x-python",
   "name": "python",
   "nbconvert_exporter": "python",
   "pygments_lexer": "ipython3",
   "version": "3.10.13"
  }
 },
 "nbformat": 4,
 "nbformat_minor": 5
}
