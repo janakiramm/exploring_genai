{
 "cells": [
  {
   "cell_type": "code",
   "execution_count": null,
   "id": "232137d2-1224-4844-97e5-3f75775949de",
   "metadata": {},
   "outputs": [],
   "source": [
    "from langchain.llms import HuggingFaceTextGenInference\n",
    "from langchain.llms import HuggingFaceTextGenInference\n",
    "from langchain import PromptTemplate\n",
    "from langchain.schema import StrOutputParser"
   ]
  },
  {
   "cell_type": "code",
   "execution_count": null,
   "id": "c119fe9a-995f-4f28-bde0-4f68bf43a07d",
   "metadata": {},
   "outputs": [],
   "source": [
    "import warnings\n",
    "warnings.simplefilter('ignore')"
   ]
  },
  {
   "cell_type": "code",
   "execution_count": null,
   "id": "8a837de5-cf2d-4d53-a8b3-7250c25dc616",
   "metadata": {},
   "outputs": [],
   "source": [
    "URI=\"http://139.84.138.178:8080/\"\n",
    "llm = HuggingFaceTextGenInference(inference_server_url=URI)"
   ]
  },
  {
   "cell_type": "code",
   "execution_count": null,
   "id": "8a5a747f-f49f-4213-89eb-12ba2f7e8790",
   "metadata": {},
   "outputs": [],
   "source": [
    "template = \"\"\"\n",
    "<s>[INST] <<SYS>>\n",
    "{role}\n",
    "<</SYS>>\n",
    " \n",
    "{text} [/INST]\n",
    "\"\"\""
   ]
  },
  {
   "cell_type": "code",
   "execution_count": null,
   "id": "45d5c7d5-98e1-4467-ac76-48f7aad1e192",
   "metadata": {},
   "outputs": [],
   "source": [
    "prompt = PromptTemplate(\n",
    "    input_variables=[\"role\",\"text\"],\n",
    "    template=template,\n",
    ")"
   ]
  },
  {
   "cell_type": "code",
   "execution_count": null,
   "id": "1e67caeb-a268-4db7-9d0a-8fc2a7e1530a",
   "metadata": {},
   "outputs": [],
   "source": [
    "role= \"Act as a Machine Learning engineer who is teaching high school students.\"\n",
    "text = \"Explain what is artificial intelligence in 2-3 sentences\""
   ]
  },
  {
   "cell_type": "code",
   "execution_count": null,
   "id": "e43fab10-1c39-45e3-b0dc-b4091d59fbb9",
   "metadata": {},
   "outputs": [],
   "source": [
    "print(prompt.format(role=role,text=text))"
   ]
  },
  {
   "cell_type": "code",
   "execution_count": null,
   "id": "d41bd9be-83f6-4f44-9088-8e8f30a13304",
   "metadata": {},
   "outputs": [],
   "source": [
    "chain = prompt | llm | StrOutputParser()"
   ]
  },
  {
   "cell_type": "code",
   "execution_count": null,
   "id": "43f8134f-80df-4c67-b47e-0a0d3fd062eb",
   "metadata": {},
   "outputs": [],
   "source": [
    "print(chain.invoke({\"role\": role,\"text\":text}))"
   ]
  }
 ],
 "metadata": {
  "kernelspec": {
   "display_name": "Python 3 (ipykernel)",
   "language": "python",
   "name": "python3"
  },
  "language_info": {
   "codemirror_mode": {
    "name": "ipython",
    "version": 3
   },
   "file_extension": ".py",
   "mimetype": "text/x-python",
   "name": "python",
   "nbconvert_exporter": "python",
   "pygments_lexer": "ipython3",
   "version": "3.10.13"
  }
 },
 "nbformat": 4,
 "nbformat_minor": 5
}
