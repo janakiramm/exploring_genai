{
 "cells": [
  {
   "cell_type": "code",
   "execution_count": null,
   "id": "cead4e34-fbc4-4f5c-af3d-aa2ecba0084f",
   "metadata": {},
   "outputs": [],
   "source": [
    "from PyPDF2 import PdfReader\n",
    "from langchain.llms import HuggingFaceTextGenInference\n",
    "from langchain.embeddings import HuggingFaceEmbeddings\n",
    "from langchain.chains.question_answering import load_qa_chain\n",
    "from langchain.schema.runnable import RunnablePassthrough\n",
    "from langchain.prompts import PromptTemplate\n",
    "from langchain.document_loaders import PyPDFLoader\n",
    "from langchain.text_splitter import CharacterTextSplitter\n",
    "from langchain.vectorstores import Chroma\n",
    "from langchain.schema import StrOutputParser\n",
    "import joblib\n",
    "import os"
   ]
  },
  {
   "cell_type": "code",
   "execution_count": null,
   "id": "3810b177-5f88-45fa-acdb-fa398706713b",
   "metadata": {},
   "outputs": [],
   "source": [
    "import warnings\n",
    "warnings.filterwarnings('ignore')"
   ]
  },
  {
   "cell_type": "code",
   "execution_count": null,
   "id": "0dff74cd-6fa8-4869-a32f-433fb35b0c6a",
   "metadata": {},
   "outputs": [],
   "source": [
    "URI=\"http://139.84.138.178:8080/\"\n",
    "model_id = \"meta-llama/Llama-2-13b-chat-hf\"\n",
    "llm = HuggingFaceTextGenInference(inference_server_url=URI,max_new_tokens=2000)"
   ]
  },
  {
   "cell_type": "code",
   "execution_count": null,
   "id": "3c8a8bd6-3d93-4d6b-a120-ccc14258f955",
   "metadata": {},
   "outputs": [],
   "source": [
    "template = \"\"\"\n",
    "<s>[INST] <<SYS>>\n",
    "You are a helpful AI assistant.\n",
    "Answer based on the context provided. If you cannot find the correct answer, say I don't know. Be concise and just include the response.\n",
    "<</SYS>>\n",
    "{context}\n",
    "Question: {question}\n",
    "Helpful Answer: [/INST]\n",
    "\"\"\""
   ]
  },
  {
   "cell_type": "code",
   "execution_count": null,
   "id": "797aa9b2-ee37-442b-aa8a-61019df49b18",
   "metadata": {},
   "outputs": [],
   "source": [
    "prompt = PromptTemplate.from_template(template)"
   ]
  },
  {
   "cell_type": "code",
   "execution_count": null,
   "id": "0da2ccc2-d082-488e-90c4-9e802030e870",
   "metadata": {},
   "outputs": [],
   "source": [
    "reader = PdfReader('data/steve-jobs.pdf')"
   ]
  },
  {
   "cell_type": "code",
   "execution_count": null,
   "id": "6f4a831e-e794-4b50-bd6c-223b17a86a33",
   "metadata": {},
   "outputs": [],
   "source": [
    "raw_text = ''\n",
    "for i, page in enumerate(reader.pages):\n",
    "    text = page.extract_text()\n",
    "    if text:\n",
    "        raw_text += text"
   ]
  },
  {
   "cell_type": "code",
   "execution_count": null,
   "id": "63a2bcda-c62d-42e4-b244-d8e9f2ecf7ff",
   "metadata": {},
   "outputs": [],
   "source": [
    "text_splitter = CharacterTextSplitter(        \n",
    "    separator = \"\\n\",\n",
    "    chunk_size = 500,\n",
    "    chunk_overlap  = 20,\n",
    "    length_function = len,\n",
    ")\n",
    "texts = text_splitter.split_text(raw_text)"
   ]
  },
  {
   "cell_type": "code",
   "execution_count": null,
   "id": "9ff9a30c-8554-4773-a78c-f610c72636ed",
   "metadata": {},
   "outputs": [],
   "source": [
    "embeddings_file = \"./data/steve-jobs.joblib\"\n",
    "if os.path.exists(embeddings_file):\n",
    "    embeddings = joblib.load(embeddings_file)\n",
    "else:\n",
    "    embeddings = HuggingFaceEmbeddings()\n",
    "    joblib.dump(embeddings, embeddings_file)"
   ]
  },
  {
   "cell_type": "code",
   "execution_count": null,
   "id": "84b2629c-4a23-4d34-93a3-0b2d880c9264",
   "metadata": {},
   "outputs": [],
   "source": [
    "vectorstore = Chroma.from_texts(texts, embeddings)"
   ]
  },
  {
   "cell_type": "code",
   "execution_count": null,
   "id": "f81b4d4a-618e-441a-8f37-1eadeee34a60",
   "metadata": {},
   "outputs": [],
   "source": [
    "retriever = vectorstore.as_retriever()"
   ]
  },
  {
   "cell_type": "code",
   "execution_count": null,
   "id": "0eb9ac7d-6350-4732-a7a5-f071405d1fe7",
   "metadata": {},
   "outputs": [],
   "source": [
    "chain = (\n",
    "    {\"context\": retriever, \"question\": RunnablePassthrough()} \n",
    "    | prompt \n",
    "    | llm \n",
    ")"
   ]
  },
  {
   "cell_type": "code",
   "execution_count": null,
   "id": "2f778c98-a54b-4ab6-90ed-7894c1b42ab7",
   "metadata": {},
   "outputs": [],
   "source": [
    "query=\"Where did Steve Jobs deliver this speech?\""
   ]
  },
  {
   "cell_type": "code",
   "execution_count": null,
   "id": "b3e24578-ed6a-47de-9d96-9ac06d70d820",
   "metadata": {},
   "outputs": [],
   "source": [
    "retriever.get_relevant_documents(query)"
   ]
  },
  {
   "cell_type": "code",
   "execution_count": null,
   "id": "aab4c49e-b885-43bd-90bf-ca20f5acbb88",
   "metadata": {},
   "outputs": [],
   "source": [
    "print(chain.invoke(query))"
   ]
  }
 ],
 "metadata": {
  "kernelspec": {
   "display_name": "Python 3 (ipykernel)",
   "language": "python",
   "name": "python3"
  },
  "language_info": {
   "codemirror_mode": {
    "name": "ipython",
    "version": 3
   },
   "file_extension": ".py",
   "mimetype": "text/x-python",
   "name": "python",
   "nbconvert_exporter": "python",
   "pygments_lexer": "ipython3",
   "version": "3.10.13"
  }
 },
 "nbformat": 4,
 "nbformat_minor": 5
}
